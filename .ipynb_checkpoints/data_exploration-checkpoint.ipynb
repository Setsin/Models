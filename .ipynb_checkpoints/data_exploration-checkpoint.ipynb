{
 "cells": [
  {
   "cell_type": "code",
   "execution_count": 13,
   "metadata": {},
   "outputs": [
    {
     "name": "stdout",
     "output_type": "stream",
     "text": [
      "Collecting plotly\n",
      "  Downloading plotly-4.9.0-py2.py3-none-any.whl (12.9 MB)\n",
      "Requirement already satisfied: six in c:\\programdata\\anaconda3\\envs\\rodolphe\\lib\\site-packages (from plotly) (1.15.0)\n",
      "Collecting retrying>=1.3.3\n",
      "  Downloading retrying-1.3.3.tar.gz (10 kB)\n",
      "Building wheels for collected packages: retrying\n",
      "  Building wheel for retrying (setup.py): started\n",
      "  Building wheel for retrying (setup.py): finished with status 'done'\n",
      "  Created wheel for retrying: filename=retrying-1.3.3-py3-none-any.whl size=11435 sha256=92901e1bfb083845569c059f17e86ac0a7af211aae0191f96e68323af9dcd65a\n",
      "  Stored in directory: c:\\users\\administrateur\\appdata\\local\\pip\\cache\\wheels\\f9\\8d\\8d\\f6af3f7f9eea3553bc2fe6d53e4b287dad18b06a861ac56ddf\n",
      "Successfully built retrying\n",
      "Installing collected packages: retrying, plotly\n",
      "Successfully installed plotly-4.9.0 retrying-1.3.3\n",
      "Note: you may need to restart the kernel to use updated packages.\n"
     ]
    }
   ],
   "source": [
    "pip install plotly --user"
   ]
  },
  {
   "cell_type": "code",
   "execution_count": 3,
   "metadata": {},
   "outputs": [],
   "source": [
    "import pandas as pd\n",
    "import numpy as np\n",
    "import plotly\n",
    "from statsmodels.tsa.stattools import adfuller"
   ]
  },
  {
   "cell_type": "code",
   "execution_count": 4,
   "metadata": {},
   "outputs": [],
   "source": [
    "bc = pd.read_csv('./Data/BTC-USD.csv')"
   ]
  },
  {
   "cell_type": "code",
   "execution_count": 5,
   "metadata": {},
   "outputs": [],
   "source": [
    "# Ajout d'un nom pour la col 'date' et Convertion en datetime\n",
    "\n",
    "bc.rename(columns={'Unnamed: 0':'Date'}, inplace=True)\n",
    "\n",
    "bc['Date'] = pd.to_datetime(bc.Date)"
   ]
  },
  {
   "cell_type": "code",
   "execution_count": 6,
   "metadata": {},
   "outputs": [
    {
     "name": "stdout",
     "output_type": "stream",
     "text": [
      "                 Date          open          high           low         close  \\\n",
      "Date                                                                            \n",
      "2014-09-16 2014-09-16    465.864014    468.174011    452.421997    457.334015   \n",
      "2014-09-17 2014-09-17    456.859985    456.859985    413.104004    424.440002   \n",
      "2014-09-18 2014-09-18    424.102997    427.834991    384.532013    394.795990   \n",
      "2014-09-19 2014-09-19    394.673004    423.295990    389.882996    408.903992   \n",
      "2014-09-20 2014-09-20    408.084991    412.425995    393.181000    398.821014   \n",
      "...               ...           ...           ...           ...           ...   \n",
      "2020-07-26 2020-07-26   9905.217773  11298.221680   9903.969727  10990.873047   \n",
      "2020-07-27 2020-07-27  11017.463867  11204.327148  10632.631836  10912.823242   \n",
      "2020-07-28 2020-07-28  10912.953125  11304.397461  10856.141602  11100.467773   \n",
      "2020-07-29 2020-07-29  11099.833008  11169.356445  10895.455078  11111.213867   \n",
      "2020-07-31 2020-07-31  11116.235352  11400.326172  10987.053711  11253.059570   \n",
      "\n",
      "                adjclose       volume   ticker  \n",
      "Date                                            \n",
      "2014-09-16    457.334015     21056800  BTC-USD  \n",
      "2014-09-17    424.440002     34483200  BTC-USD  \n",
      "2014-09-18    394.795990     37919700  BTC-USD  \n",
      "2014-09-19    408.903992     36863600  BTC-USD  \n",
      "2014-09-20    398.821014     26580100  BTC-USD  \n",
      "...                  ...          ...      ...  \n",
      "2020-07-26  10990.873047  35359749590  BTC-USD  \n",
      "2020-07-27  10912.823242  28766551142  BTC-USD  \n",
      "2020-07-28  11100.467773  24617249715  BTC-USD  \n",
      "2020-07-29  11111.213867  22857247901  BTC-USD  \n",
      "2020-07-31  11253.059570  23136737280  BTC-USD  \n",
      "\n",
      "[2145 rows x 8 columns]\n"
     ]
    }
   ],
   "source": [
    "# Setting the index as the dates and print shape\n",
    "bc.set_index(bc['Date'], inplace=True)\n",
    "\n",
    "print(bc)"
   ]
  },
  {
   "cell_type": "code",
   "execution_count": 8,
   "metadata": {},
   "outputs": [],
   "source": [
    "# Selecting only the dates from 2017-01-01 onwards when Bitcoin popularity increased.\n",
    "bc = bc[['close']].loc['2017-01-01':]\n",
    "plotly."
   ]
  },
  {
   "cell_type": "code",
   "execution_count": 9,
   "metadata": {},
   "outputs": [],
   "source": [
    "# Converting the data to a logarithmic scale\n",
    "bc_log = pd.DataFrame(np.log(bc.close))"
   ]
  },
  {
   "cell_type": "code",
   "execution_count": 10,
   "metadata": {},
   "outputs": [],
   "source": [
    "# Differencing the log values\n",
    "log_diff = bc_log.diff().dropna()"
   ]
  },
  {
   "cell_type": "code",
   "execution_count": 11,
   "metadata": {},
   "outputs": [
    {
     "name": "stdout",
     "output_type": "stream",
     "text": [
      "P-value: 0.0\n"
     ]
    }
   ],
   "source": [
    "# Using the Dickey-Fuller test to check for stationarity\n",
    "results = adfuller(log_diff.close)\n",
    "print(f\"P-value: {results[1]}\")"
   ]
  },
  {
   "cell_type": "code",
   "execution_count": null,
   "metadata": {},
   "outputs": [],
   "source": []
  }
 ],
 "metadata": {
  "kernelspec": {
   "display_name": "Python 3",
   "language": "python",
   "name": "python3"
  },
  "language_info": {
   "codemirror_mode": {
    "name": "ipython",
    "version": 3
   },
   "file_extension": ".py",
   "mimetype": "text/x-python",
   "name": "python",
   "nbconvert_exporter": "python",
   "pygments_lexer": "ipython3",
   "version": "3.7.1"
  }
 },
 "nbformat": 4,
 "nbformat_minor": 4
}
